{
 "cells": [
  {
   "cell_type": "markdown",
   "id": "d6742d78-d1ec-4f2e-8136-9083e09b386a",
   "metadata": {
    "tags": []
   },
   "source": [
    "## ECM1421 demo1\n",
    "\n",
    "1.\n",
    "Lines that begin with '#' are Comments.\n",
    "**bold text**\n",
    "*italics*\n",
    "<em>This is italic text</em>\n",
    "Comments are ignored by the interpreter.\n",
    "\n",
    "Lines can be 'commented-in' and 'commented-out'"
   ]
  },
  {
   "cell_type": "code",
   "execution_count": null,
   "id": "4ca5af03-74c8-4657-9c51-c8586e2b56ef",
   "metadata": {},
   "outputs": [],
   "source": [
    "# Lines can be 'commented-in' and 'commented-out'"
   ]
  },
  {
   "cell_type": "code",
   "execution_count": 2,
   "id": "5f0d5460-9841-46b0-aae0-afef3c6ed350",
   "metadata": {},
   "outputs": [
    {
     "name": "stdout",
     "output_type": "stream",
     "text": [
      "Hello World\n"
     ]
    }
   ],
   "source": [
    "# 2.\n",
    "# A function and a string\n",
    "print('Hello World')\n",
    "# see output below...\n",
    "# notice need brackets (print is a *function*)\n",
    "# notice need *apostrosphes* - enclose a *string*\n",
    "# single or double apostrophes"
   ]
  },
  {
   "cell_type": "markdown",
   "id": "2ebd0116-c1fd-4dcd-b931-09b9d841babf",
   "metadata": {},
   "source": [
    "The Python code - print('Hello World') give us the output that you see above.\n",
    "Notice that we need to include brackets because 'print' is a function and we have to send what we want printed in brackets.\n"
   ]
  },
  {
   "cell_type": "code",
   "execution_count": 1,
   "id": "3eec9b72-0e0f-493f-a32a-3a047c2130c9",
   "metadata": {},
   "outputs": [
    {
     "data": {
      "text/html": [
       "\n",
       "        <iframe\n",
       "            width=\"640\"\n",
       "            height=\"564\"\n",
       "            src=\"https://player.vimeo.com/video/655915816?h=9c3ee76926\"\n",
       "            frameborder=\"0\"\n",
       "            allowfullscreen\n",
       "            \n",
       "        ></iframe>\n",
       "        "
      ],
      "text/plain": [
       "<IPython.lib.display.IFrame at 0x13e127bc760>"
      ]
     },
     "metadata": {},
     "output_type": "display_data"
    }
   ],
   "source": [
    "from IPython.display import IFrame\n",
    "from IPython.display import display\n",
    "display(IFrame('https://player.vimeo.com/video/655915816?h=9c3ee76926', '640', '564'))"
   ]
  },
  {
   "cell_type": "code",
   "execution_count": 6,
   "id": "6d29bfcf-3b40-4d17-9163-41fc325b3028",
   "metadata": {},
   "outputs": [
    {
     "ename": "ModuleNotFoundError",
     "evalue": "No module named 'session_info'",
     "output_type": "error",
     "traceback": [
      "\u001b[1;31m---------------------------------------------------------------------------\u001b[0m",
      "\u001b[1;31mModuleNotFoundError\u001b[0m                       Traceback (most recent call last)",
      "Input \u001b[1;32mIn [6]\u001b[0m, in \u001b[0;36m<cell line: 1>\u001b[1;34m()\u001b[0m\n\u001b[1;32m----> 1\u001b[0m \u001b[38;5;28;01mimport\u001b[39;00m \u001b[38;5;21;01msession_info\u001b[39;00m\n\u001b[0;32m      2\u001b[0m session_info\u001b[38;5;241m.\u001b[39mshow()\n",
      "\u001b[1;31mModuleNotFoundError\u001b[0m: No module named 'session_info'"
     ]
    }
   ],
   "source": [
    "import session_info\n",
    "session_info.show()"
   ]
  },
  {
   "cell_type": "code",
   "execution_count": null,
   "id": "eeac4a8d-c7a6-484c-9031-ea8bf39faa04",
   "metadata": {},
   "outputs": [],
   "source": []
  }
 ],
 "metadata": {
  "kernelspec": {
   "display_name": "Python 3 (ipykernel)",
   "language": "python",
   "name": "python3"
  },
  "language_info": {
   "codemirror_mode": {
    "name": "ipython",
    "version": 3
   },
   "file_extension": ".py",
   "mimetype": "text/x-python",
   "name": "python",
   "nbconvert_exporter": "python",
   "pygments_lexer": "ipython3",
   "version": "3.9.1"
  }
 },
 "nbformat": 4,
 "nbformat_minor": 5
}
